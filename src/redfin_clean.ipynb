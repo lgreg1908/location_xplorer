{
 "cells": [
  {
   "cell_type": "code",
   "execution_count": 2,
   "metadata": {},
   "outputs": [],
   "source": [
    "import pandas as pd\n",
    "import sys\n",
    "import os"
   ]
  },
  {
   "cell_type": "code",
   "execution_count": 4,
   "metadata": {},
   "outputs": [],
   "source": [
    "def load_redfin_data(filepath: str) -> pd.DataFrame:\n",
    "    \"\"\"\n",
    "    Loads Redfin housing market data from a CSV file.\n",
    "\n",
    "    Parameters:\n",
    "    filepath (str): The path to the CSV file.\n",
    "\n",
    "    Returns:\n",
    "    pd.DataFrame: A DataFrame containing the specified columns from the Redfin dataset.\n",
    "    \"\"\"\n",
    "    return pd.read_csv(\n",
    "        filepath, \n",
    "        sep='\\t', \n",
    "        usecols=['period_end', 'region_type', 'region_name', 'duration', 'median_sale_price']\n",
    "    )"
   ]
  },
  {
   "cell_type": "code",
   "execution_count": 5,
   "metadata": {},
   "outputs": [],
   "source": [
    "def filter_data(df):\n",
    "    \"\"\"\n",
    "    Filters and cleans Redfin housing market data to include only the most recent \n",
    "    12-week aggregated median sale prices for counties.\n",
    "\n",
    "    Steps:\n",
    "    1. Identifies the most recent period_end date in the dataset.\n",
    "    2. Filters the DataFrame to include only county-level data with a duration of '12 weeks'.\n",
    "    3. Drops rows with missing median sale prices.\n",
    "    4. Retains only the latest period_end data.\n",
    "    5. Cleans up county names by removing suffixes like 'County', 'Parish', 'Census Area', and 'Borough'.\n",
    "    6. Renames the 'region_name' column to 'county'.\n",
    "\n",
    "    Parameters:\n",
    "    df (pd.DataFrame): The input DataFrame containing Redfin housing market data.\n",
    "\n",
    "    Returns:\n",
    "    pd.DataFrame: A DataFrame with two columns: 'county' and 'median_sale_price', \n",
    "                  filtered and cleaned for analysis.\n",
    "    \"\"\"\n",
    "    max_dt = df['period_end'].max()\n",
    "\n",
    "    # Filter data to include only county-level, 12-week duration records\n",
    "    df_filtered = (\n",
    "        df.loc[\n",
    "            (df['region_type'] == 'county') &\n",
    "            (df['duration'] == '12 weeks')\n",
    "        ]\n",
    "        .dropna(subset=['median_sale_price'])\n",
    "        .query(\"period_end == @max_dt\")\n",
    "    )[['region_name', 'median_sale_price']]\n",
    "\n",
    "    # Clean county names\n",
    "    df_filtered['region_name'] = (\n",
    "        df_filtered['region_name']\n",
    "        .str.replace(' County', '', regex=False)\n",
    "        .str.replace(' Parish', '', regex=False)\n",
    "        .str.replace(' Census Area', '', regex=False)\n",
    "        .str.replace(' Borough', '', regex=False)\n",
    "    )\n",
    "\n",
    "    # Rename column for clarity\n",
    "    df_filtered = df_filtered.rename(columns={\"region_name\": \"county\"})\n",
    "\n",
    "    return df_filtered\n"
   ]
  },
  {
   "cell_type": "code",
   "execution_count": 6,
   "metadata": {},
   "outputs": [],
   "source": [
    "def main():\n",
    "    \"\"\"\n",
    "    Main function to load, filter, and save Redfin housing market data.\n",
    "\n",
    "    Steps:\n",
    "    1. Add the current directory to the system path.\n",
    "    2. Define input and output file paths.\n",
    "    3. Load the Redfin dataset.\n",
    "    4. Filter and clean the data.\n",
    "    5. Save the processed DataFrame to a CSV file.\n",
    "\n",
    "    Returns:\n",
    "    None\n",
    "    \"\"\"\n",
    "\n",
    "    # Ensure the script can access necessary modules\n",
    "    sys.path.append(os.path.abspath('.'))\n",
    "    print(\"Added current directory to system path.\")\n",
    "\n",
    "    # Define file paths\n",
    "    input_path = os.path.join('..', 'data', 'redfin_raw.csv')\n",
    "    output_path = os.path.join('..', 'data', 'redfin_clean.csv')\n",
    "    print(f\"Input file path: {input_path}\")\n",
    "    print(f\"Output file path: {output_path}\")\n",
    "\n",
    "    # Load data\n",
    "    print(\"Loading Redfin data...\")\n",
    "    df = load_redfin_data(input_path)\n",
    "    print(\"Data loaded successfully.\")\n",
    "\n",
    "    # Filter and clean data\n",
    "    print(\"Filtering and cleaning data...\")\n",
    "    df_filtered = df.pipe(filter_data)\n",
    "    print(\"Data filtering complete.\")\n",
    "\n",
    "    # Save the cleaned data\n",
    "    print(f\"Saving cleaned data to {output_path}...\")\n",
    "    df_filtered.to_csv(output_path, index=False)\n",
    "    print(\"File saved successfully.\")"
   ]
  },
  {
   "cell_type": "code",
   "execution_count": 7,
   "metadata": {},
   "outputs": [
    {
     "name": "stdout",
     "output_type": "stream",
     "text": [
      "Added current directory to system path.\n",
      "Input file path: ../data/redfin_raw.csv\n",
      "Output file path: ../data/redfin_clean.csv\n",
      "Loading Redfin data...\n",
      "Data loaded successfully.\n",
      "Filtering and cleaning data...\n",
      "Data filtering complete.\n",
      "Saving cleaned data to ../data/redfin_clean.csv...\n",
      "File saved successfully.\n"
     ]
    }
   ],
   "source": [
    "main()"
   ]
  }
 ],
 "metadata": {
  "kernelspec": {
   "display_name": "venv",
   "language": "python",
   "name": "python3"
  },
  "language_info": {
   "codemirror_mode": {
    "name": "ipython",
    "version": 3
   },
   "file_extension": ".py",
   "mimetype": "text/x-python",
   "name": "python",
   "nbconvert_exporter": "python",
   "pygments_lexer": "ipython3",
   "version": "3.13.1"
  }
 },
 "nbformat": 4,
 "nbformat_minor": 2
}
