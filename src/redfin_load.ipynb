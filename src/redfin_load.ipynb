{
 "cells": [
  {
   "cell_type": "code",
   "execution_count": 1,
   "metadata": {},
   "outputs": [],
   "source": [
    "import requests\n",
    "import sys\n",
    "import os"
   ]
  },
  {
   "cell_type": "code",
   "execution_count": 2,
   "metadata": {},
   "outputs": [],
   "source": [
    "def fetch_data(url, filepath):\n",
    "    \"\"\"\n",
    "    Downloads a file from a given URL and saves it to the specified file path.\n",
    "\n",
    "    Parameters:\n",
    "    url (str): The URL from which to fetch the data.\n",
    "    filepath (str): The local file path where the downloaded content will be saved.\n",
    "\n",
    "    Raises:\n",
    "    SystemExit: If an HTTP error occurs during the request.\n",
    "\n",
    "    Returns:\n",
    "    None\n",
    "    \"\"\"\n",
    "    try:\n",
    "        r = requests.get(url, allow_redirects=True)\n",
    "        r.raise_for_status()\n",
    "        with open(filepath, \"wb\") as f:\n",
    "            f.write(r.content)\n",
    "    except requests.exceptions.HTTPError as err:\n",
    "        raise SystemExit(err)"
   ]
  },
  {
   "cell_type": "code",
   "execution_count": 3,
   "metadata": {},
   "outputs": [],
   "source": [
    "def main():\n",
    "    \"\"\"\n",
    "    Main function to fetch Redfin housing market data and save it locally.\n",
    "\n",
    "    Steps:\n",
    "    1. Add the current directory to the system path.\n",
    "    2. Define the output file path.\n",
    "    3. Define the data source URL.\n",
    "    4. Fetch and save the data.\n",
    "\n",
    "    Returns:\n",
    "    None\n",
    "    \"\"\"\n",
    "\n",
    "    # Ensure the script can access necessary modules\n",
    "    sys.path.append(os.path.abspath('.'))\n",
    "    print(\"Added current directory to system path.\")\n",
    "\n",
    "    # Define file path\n",
    "    filepath = os.path.join('..', 'data', 'redfin_raw.csv')\n",
    "    print(f\"File will be saved to: {filepath}\")\n",
    "\n",
    "    # Define data source URL\n",
    "    url = \"https://redfin-public-data.s3.us-west-2.amazonaws.com/redfin_covid19/weekly_housing_market_data_most_recent.tsv000\"\n",
    "    print(f\"Fetching data from: {url}\")\n",
    "\n",
    "    # Fetch data and save it to the specified location\n",
    "    fetch_data(url=url, filepath=filepath)\n",
    "    print(\"Data fetch completed successfully.\")"
   ]
  },
  {
   "cell_type": "code",
   "execution_count": 4,
   "metadata": {},
   "outputs": [
    {
     "name": "stdout",
     "output_type": "stream",
     "text": [
      "Added current directory to system path.\n",
      "File will be saved to: ../data/redfin_raw.csv\n",
      "Fetching data from: https://redfin-public-data.s3.us-west-2.amazonaws.com/redfin_covid19/weekly_housing_market_data_most_recent.tsv000\n",
      "Data fetch completed successfully.\n"
     ]
    }
   ],
   "source": [
    "main()"
   ]
  }
 ],
 "metadata": {
  "kernelspec": {
   "display_name": "venv",
   "language": "python",
   "name": "python3"
  },
  "language_info": {
   "codemirror_mode": {
    "name": "ipython",
    "version": 3
   },
   "file_extension": ".py",
   "mimetype": "text/x-python",
   "name": "python",
   "nbconvert_exporter": "python",
   "pygments_lexer": "ipython3",
   "version": "3.13.1"
  }
 },
 "nbformat": 4,
 "nbformat_minor": 2
}
